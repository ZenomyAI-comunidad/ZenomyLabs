{
  "nbformat": 4,
  "nbformat_minor": 0,
  "metadata": {
    "colab": {
      "provenance": [],
      "toc_visible": true
    },
    "kernelspec": {
      "name": "python3",
      "display_name": "Python 3"
    },
    "language_info": {
      "name": "python"
    }
  },
  "cells": [
    {
      "cell_type": "markdown",
      "source": [
        "# Taller #1: 💸 Automatiza tu presupuesto básico con IA (en 5 minutos)\n",
        "\n",
        "Bienvenido/a a este mini taller interactivo ⚡️\n",
        "\n",
        "En esta guía express vas a aprender cómo crear un presupuesto personal básico **de forma automática** usando Python, la librería LangChain y un poco de IA 🤖\n",
        "\n",
        "> Ideal si quieres empezar a automatizar tareas repetitivas y ahorrar tiempo.\n",
        "\n",
        "✅ Sin instalaciones complicadas\n",
        "✅ Código 100% editable y reutilizable\n",
        "✅ Te lo llevás funcionando en menos de 10 minutos\n",
        "\n",
        "---\n",
        "\n",
        "**¿Listo/a para empezar? Dale a “Runtime > Run all” y seguí los pasos paso a paso 👇**\n"
      ],
      "metadata": {
        "id": "JWBMBLjerLjr"
      }
    },
    {
      "cell_type": "markdown",
      "source": [
        "## 🛠️ Paso 1: Instalación y setup base\n"
      ],
      "metadata": {
        "id": "28SN4yTASW46"
      }
    },
    {
      "cell_type": "code",
      "source": [
        "# Instalamos las librerías necesarias para este mini taller\n",
        "# ✅ langchain: para manejar los pasos con IA\n",
        "# ✅ langchain-google-genai y google-generativeai: para usar modelos de Google (Gemini)\n",
        "# ✅ pandas: si querés mostrar o exportar presupuestos en tabla\n",
        "\n",
        "!pip install langchain langchain-google-genai google-generativeai pandas -q\n"
      ],
      "metadata": {
        "id": "bLkKAD-8SWfM"
      },
      "execution_count": null,
      "outputs": []
    },
    {
      "cell_type": "markdown",
      "source": [
        "### ✅ Cómo usar API Secrets en Google Colab\n"
      ],
      "metadata": {
        "id": "vR9Jzf1hS__w"
      }
    },
    {
      "cell_type": "markdown",
      "source": [
        "![image.png](data:image/png;base64,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)"
      ],
      "metadata": {
        "id": "efXWd-IgS9J2"
      }
    },
    {
      "cell_type": "code",
      "execution_count": null,
      "metadata": {
        "id": "9Nfgs0WrRQdh"
      },
      "outputs": [],
      "source": [
        "# En esta celda vamos a recuperar tu API Key de Google desde los secretos del entorno\n",
        "# Para eso, primero tenés que haberla guardado como 'GOOGLE_API_KEY' en Colab > Secrets\n",
        "# Si no sabés cómo hacerlo, revisá la imagen de referencia que te dejamos arriba 📸\n",
        "\n",
        "from google.colab import userdata\n",
        "import google.generativeai as genai\n",
        "\n",
        "api_key = userdata.get(\"GOOGLE_API_KEY\")  # 🔐 Asegurate que esté seteada antes de continuar"
      ]
    },
    {
      "cell_type": "markdown",
      "source": [
        "## Paso 2: Convertir la idea del cliente en un resumen técnico\n",
        "\n",
        "En este paso, vamos a usar un agente que toma una descripción simple de un cliente (en lenguaje natural) y genera un resumen estructurado del proyecto.\n",
        "\n",
        "### 📈 Objetivo:\n",
        "\n",
        "Convertir algo como:\n",
        "\n",
        "> \"Quiero una app para reservar canchas de fútbol y pagar online.\"\n",
        "\n",
        "En:\n",
        "\n",
        "* Objetivo del proyecto\n",
        "* Funcionalidades clave\n",
        "* Plataformas sugeridas\n",
        "* Usuario final\n"
      ],
      "metadata": {
        "id": "TEbs0bBc4DCm"
      }
    },
    {
      "cell_type": "code",
      "source": [
        "from langchain_google_genai import ChatGoogleGenerativeAI\n",
        "from langchain.output_parsers import PydanticOutputParser\n",
        "from langchain.prompts import PromptTemplate\n",
        "from langchain.schema.runnable import Runnable\n",
        "from pydantic import BaseModel, Field"
      ],
      "metadata": {
        "id": "ghvxOUXv4bvm"
      },
      "execution_count": null,
      "outputs": []
    },
    {
      "cell_type": "code",
      "source": [
        "# Aca usamos un modelo pydantic por que le diremos al LLM como queremos que nos estructure la salida con descripciones de los campos\n",
        "class Proyecto(BaseModel):\n",
        "    titulo: str = Field(..., description=\"Título del proyecto\")\n",
        "    objetivo: str = Field(..., description=\"Objetivo general del proyecto\")\n",
        "    funcionalidades: list[str] = Field(..., description=\"Lista de funcionalidades clave\")\n",
        "    publico_objetivo: str = Field(..., description=\"Público objetivo del proyecto\")\n",
        "    plataformas: list[str] = Field(..., description=\"Plataformas sugeridas\")\n",
        "    perfiles_equipo: list[str] = Field(..., description=\"Perfiles técnicos mínimos requeridos\")\n",
        "    salarios_estimados: dict = Field(..., description=\"Salario diario estimado por perfil en USD (mercado latam)\")"
      ],
      "metadata": {
        "id": "8IXkRUOi4dJn"
      },
      "execution_count": null,
      "outputs": []
    },
    {
      "cell_type": "code",
      "source": [
        "# Parser para usar con LangChain\n",
        "parser_proyecto = PydanticOutputParser(pydantic_object=Proyecto)\n",
        "\n",
        "# Prompt template que incluye instrucciones para la salida y como pensar la respuesta\n",
        "template_proyecto = PromptTemplate(\n",
        "    template=\"\"\"\n",
        "    Eres un analista de software para una empresa reconocida en LatinoAmerica.\n",
        "    A partir de esta descripción la petición de un cliente, devuelve en formato estructurado en proyecto de software funcional y ejecutable\n",
        "    y con un costo realista por profesional (maximo 100 usd al día)\n",
        "\n",
        "    {format_instructions}\n",
        "\n",
        "    Petición del cliente:\n",
        "    {peticion}\n",
        "    \"\"\",\n",
        "    input_variables=[\"peticion\"],\n",
        "    partial_variables={\"format_instructions\": parser_proyecto.get_format_instructions()}\n",
        ")"
      ],
      "metadata": {
        "id": "3DNB6oJf4J1c"
      },
      "execution_count": null,
      "outputs": []
    },
    {
      "cell_type": "code",
      "source": [
        "# Instanciar el modelo LLM\n",
        "llm = ChatGoogleGenerativeAI(model=\"gemini-2.0-flash\", google_api_key=api_key)\n",
        "\n",
        "# Construir la cadena\n",
        "chain_proyecto: Runnable = template_proyecto | llm | parser_proyecto"
      ],
      "metadata": {
        "id": "flAj6CFB4-nR"
      },
      "execution_count": null,
      "outputs": []
    },
    {
      "cell_type": "markdown",
      "source": [
        "### Ejemplo de la APP:"
      ],
      "metadata": {
        "id": "KtXiFQueQLzr"
      }
    },
    {
      "cell_type": "code",
      "source": [
        "# Input de ejemplo\n",
        "peticion = \"Quiero una app para alquilar canchas de fútbol con pagos online.\"\n",
        "proyecto = chain_proyecto.invoke({\"peticion\": peticion})\n",
        "\n",
        "# Mostrar resultado\n",
        "print(proyecto.model_dump_json(indent=2))"
      ],
      "metadata": {
        "colab": {
          "base_uri": "https://localhost:8080/"
        },
        "id": "mv6lYbwE5Azp",
        "outputId": "6318a11f-0edf-4677-e672-8c824ef11b1a"
      },
      "execution_count": null,
      "outputs": [
        {
          "output_type": "stream",
          "name": "stdout",
          "text": [
            "{\n",
            "  \"titulo\": \"Plataforma Web para Alquiler de Canchas de Fútbol\",\n",
            "  \"objetivo\": \"Desarrollar una plataforma web intuitiva y eficiente que permita a los usuarios reservar canchas de fútbol en línea, gestionar sus reservas y realizar pagos de forma segura, facilitando la conexión entre propietarios de canchas y jugadores.\",\n",
            "  \"funcionalidades\": [\n",
            "    \"Registro e inicio de sesión de usuarios.\",\n",
            "    \"Búsqueda de canchas por ubicación, fecha, hora y tipo (fútbol 5, 7, 11, etc.).\",\n",
            "    \"Visualización de información detallada de cada cancha (fotos, descripción, servicios, precios).\",\n",
            "    \"Calendario de disponibilidad de canchas.\",\n",
            "    \"Proceso de reserva y confirmación de reservas.\",\n",
            "    \"Integración con pasarelas de pago online (Stripe, PayPal, Mercado Pago).\",\n",
            "    \"Gestión de reservas por parte del usuario (cancelación, modificación).\",\n",
            "    \"Sistema de notificaciones (recordatorios de reserva, confirmaciones de pago).\",\n",
            "    \"Panel de administración para propietarios de canchas (gestión de canchas, precios, disponibilidad, reservas).\",\n",
            "    \"Sistema de reseñas y valoraciones de canchas.\",\n",
            "    \"Soporte multi-idioma (Español, Inglés, Portugués).\"\n",
            "  ],\n",
            "  \"publico_objetivo\": \"Jugadores de fútbol amateur, equipos de fútbol, organizadores de torneos y propietarios de canchas de fútbol.\",\n",
            "  \"plataformas\": [\n",
            "    \"Web (responsive design para escritorio y dispositivos móviles)\"\n",
            "  ],\n",
            "  \"perfiles_equipo\": [\n",
            "    \"Project Manager\",\n",
            "    \"Diseñador UX/UI\",\n",
            "    \"Desarrollador Front-end\",\n",
            "    \"Desarrollador Back-end\",\n",
            "    \"Tester/QA\",\n",
            "    \"Especialista en seguridad\"\n",
            "  ],\n",
            "  \"salarios_estimados\": {\n",
            "    \"Project Manager\": 80,\n",
            "    \"Diseñador UX/UI\": 70,\n",
            "    \"Desarrollador Front-end\": 90,\n",
            "    \"Desarrollador Back-end\": 95,\n",
            "    \"Tester/QA\": 60,\n",
            "    \"Especialista en seguridad\": 100\n",
            "  }\n",
            "}\n"
          ]
        }
      ]
    },
    {
      "cell_type": "markdown",
      "source": [
        "Este paso transforma una idea en una base para estimar tiempos, costos y tecnologías ✔️\n"
      ],
      "metadata": {
        "id": "7RpRnRYk4Me6"
      }
    },
    {
      "cell_type": "markdown",
      "source": [
        "## Paso 3: Generar etapas, tecnologías y cronograma"
      ],
      "metadata": {
        "id": "u0FKS4nT57Ql"
      }
    },
    {
      "cell_type": "code",
      "source": [
        "from typing import List\n",
        "\n",
        "class Etapa(BaseModel):\n",
        "    nombre: str = Field(..., description=\"Nombre claro de la etapa del proyecto (ej. 'Desarrollo Backend')\")\n",
        "    duracion_dias: int = Field(..., description=\"Duración estimada de esta etapa, en días calendario\")\n",
        "    costo_diario_estimado: int = Field(..., description=\"Costo diario estimado en USD para ejecutar esta etapa (considerando equipo y recursos)\")\n",
        "    justificacion_del_costo: str = Field(..., description=\"Justificar brevemente por que el precio por día\")\n",
        "    descripcion: str = Field(..., description=\"Descripción breve de lo que se hace en esta etapa en menos de 100 caracteres\")\n",
        "\n",
        "class PlanTecnico(BaseModel):\n",
        "    etapas: List[Etapa] = Field(..., description=\"Lista de etapas del proyecto, cada una con duración, costo diario y descripción\")\n",
        "    tecnologias: List[str] = Field(..., description=\"Stack tecnológico sugerido para cumplir con los requerimientos del proyecto\")\n",
        "\n",
        "\n",
        "parser_tecnico = PydanticOutputParser(pydantic_object=PlanTecnico)"
      ],
      "metadata": {
        "id": "QjDsSSP559Yf"
      },
      "execution_count": null,
      "outputs": []
    },
    {
      "cell_type": "code",
      "source": [
        "template_tecnico = PromptTemplate(\n",
        "    template=\"\"\"\n",
        "    Eres un project manager. A partir del siguiente resumen técnico del proyecto, genera:\n",
        "    - Una lista de etapas con su nombre y duración en días\n",
        "    - Un stack tecnológico sugerido (frameworks, lenguajes, servicios)\n",
        "    - Costo diario del proyecto estimado en USD\n",
        "    - Descripción de cada etapa\n",
        "\n",
        "    Se realista con los presupuestos diarios y el stack tecnológico sugerido.\n",
        "    limita el presupuesto diario a 300 usd por día y un maximo de 2 semanas (10 días) por funcionalidad o etapa.\n",
        "\n",
        "    {format_instructions}\n",
        "\n",
        "    Proyecto:\n",
        "    Objetivo: {objetivo}\n",
        "    Funcionalidades: {funcionalidades}\n",
        "    Público objetivo: {publico_objetivo}\n",
        "    Plataformas: {plataformas}\n",
        "    Perfiles de equipo: {perfiles_equipo}\n",
        "    Salarios estimados (diario en dolares): {salarios_estimados}\n",
        "    \"\"\",\n",
        "    input_variables=[\"objetivo\", \"funcionalidades\", \"publico_objetivo\", \"plataformas\", \"perfiles_equipo\", \"salario_estimado\"],\n",
        "    partial_variables={\"format_instructions\": parser_tecnico.get_format_instructions()}\n",
        ")\n"
      ],
      "metadata": {
        "id": "9-TTjxsu6Ygj"
      },
      "execution_count": null,
      "outputs": []
    },
    {
      "cell_type": "code",
      "source": [
        "chain_tecnico: Runnable = template_tecnico | llm | parser_tecnico"
      ],
      "metadata": {
        "id": "uJ9Ghclt6kTt"
      },
      "execution_count": null,
      "outputs": []
    },
    {
      "cell_type": "code",
      "source": [
        "plan = chain_tecnico.invoke(proyecto.model_dump())\n",
        "print(\"\\n--- Paso 2: Plan Técnico Generado ---\")\n",
        "print(plan.model_dump_json(indent=2))"
      ],
      "metadata": {
        "colab": {
          "base_uri": "https://localhost:8080/"
        },
        "id": "AS1EtGsu6qyT",
        "outputId": "b37eb63e-ca38-4fa2-a4ba-2e9aaad20f3f"
      },
      "execution_count": null,
      "outputs": [
        {
          "output_type": "stream",
          "name": "stdout",
          "text": [
            "\n",
            "--- Paso 2: Plan Técnico Generado ---\n",
            "{\n",
            "  \"etapas\": [\n",
            "    {\n",
            "      \"nombre\": \"Planificación y Diseño UX/UI\",\n",
            "      \"duracion_dias\": 10,\n",
            "      \"costo_diario_estimado\": 230,\n",
            "      \"justificacion_del_costo\": \"PM, Diseñador UX/UI trabajando en conjunto. Costo incluye herramientas de diseño.\",\n",
            "      \"descripcion\": \"Definición de la arquitectura y diseño de la interfaz de usuario.\"\n",
            "    },\n",
            "    {\n",
            "      \"nombre\": \"Desarrollo Front-end\",\n",
            "      \"duracion_dias\": 10,\n",
            "      \"costo_diario_estimado\": 150,\n",
            "      \"justificacion_del_costo\": \"Desarrollador Front-end, PM supervisando. Incluye licencias de bibliotecas.\",\n",
            "      \"descripcion\": \"Implementación de la interfaz de usuario y la lógica del cliente.\"\n",
            "    },\n",
            "    {\n",
            "      \"nombre\": \"Desarrollo Back-end y API\",\n",
            "      \"duracion_dias\": 10,\n",
            "      \"costo_diario_estimado\": 175,\n",
            "      \"justificacion_del_costo\": \"Desarrollador Back-end, PM supervisando. Incluye costos de hosting básico.\",\n",
            "      \"descripcion\": \"Implementación de la lógica del servidor y la API.\"\n",
            "    },\n",
            "    {\n",
            "      \"nombre\": \"Integración Pasarelas de Pago\",\n",
            "      \"duracion_dias\": 5,\n",
            "      \"costo_diario_estimado\": 175,\n",
            "      \"justificacion_del_costo\": \"Desarrollador Back-end con apoyo puntual del Front-end y PM. Incluye pruebas.\",\n",
            "      \"descripcion\": \"Integración de Stripe, PayPal y/o Mercado Pago.\"\n",
            "    },\n",
            "    {\n",
            "      \"nombre\": \"Testing y QA\",\n",
            "      \"duracion_dias\": 7,\n",
            "      \"costo_diario_estimado\": 140,\n",
            "      \"justificacion_del_costo\": \"Tester/QA, Desarrolladores Front-end y Back-end dedicando tiempo a correcciones. \",\n",
            "      \"descripcion\": \"Pruebas exhaustivas de la plataforma.\"\n",
            "    },\n",
            "    {\n",
            "      \"nombre\": \"Implementación y Despliegue\",\n",
            "      \"duracion_dias\": 3,\n",
            "      \"costo_diario_estimado\": 180,\n",
            "      \"justificacion_del_costo\": \"Desarrolladores Back-end y Front-end, PM supervisando. Incluye costos de despliegue.\",\n",
            "      \"descripcion\": \"Despliegue de la plataforma a producción.\"\n",
            "    }\n",
            "  ],\n",
            "  \"tecnologias\": [\n",
            "    \"React (Front-end)\",\n",
            "    \"Node.js/Express (Back-end)\",\n",
            "    \"PostgreSQL (Base de datos)\",\n",
            "    \"AWS/Azure/Google Cloud (Hosting)\",\n",
            "    \"Stripe/PayPal/Mercado Pago (Pasarelas de pago)\",\n",
            "    \"Git (Control de versiones)\",\n",
            "    \"Docker (Contenedorización)\",\n",
            "    \"JavaScript/TypeScript\",\n",
            "    \"HTML/CSS\",\n",
            "    \"Material UI/Ant Design (Librería de componentes)\"\n",
            "  ]\n",
            "}\n"
          ]
        }
      ]
    },
    {
      "cell_type": "markdown",
      "source": [
        "## Bonus: Crear un PDF"
      ],
      "metadata": {
        "id": "wz0aApxc_v3i"
      }
    },
    {
      "cell_type": "code",
      "source": [
        "!pip install fpdf -q"
      ],
      "metadata": {
        "id": "tyFTxPhR9Vof"
      },
      "execution_count": null,
      "outputs": []
    },
    {
      "cell_type": "code",
      "source": [
        "from fpdf import FPDF\n",
        "\n",
        "def exportar_proyecto_a_pdf(proyecto, plan, path_pdf=\"Plan_Proyecto.pdf\"):\n",
        "    pdf = FPDF()\n",
        "    pdf.add_page()\n",
        "    pdf.set_auto_page_break(auto=True, margin=15)\n",
        "\n",
        "    # Paleta de colores suaves\n",
        "    azul = (40, 65, 115)\n",
        "    celeste = (220, 230, 241)\n",
        "    celeste_tabla = (230, 240, 255)\n",
        "\n",
        "    # Título principal\n",
        "    pdf.set_font(\"Arial\", \"B\", 18)\n",
        "    pdf.set_text_color(*azul)\n",
        "    pdf.cell(0, 14, proyecto.titulo, ln=True, align=\"C\")\n",
        "    pdf.ln(6)\n",
        "\n",
        "    # Objetivo General\n",
        "    pdf.set_font(\"Arial\", \"B\", 13)\n",
        "    pdf.set_fill_color(*celeste)\n",
        "    pdf.set_text_color(0)\n",
        "    pdf.cell(0, 10, \"Objetivo General:\", ln=True, fill=True)\n",
        "    pdf.set_font(\"Arial\", \"\", 12)\n",
        "    pdf.multi_cell(0, 8, proyecto.objetivo)\n",
        "    pdf.ln(2)\n",
        "\n",
        "    # Funcionalidades clave\n",
        "    pdf.set_font(\"Arial\", \"B\", 13)\n",
        "    pdf.cell(0, 10, \"Funcionalidades clave:\", ln=True, fill=True)\n",
        "    pdf.set_font(\"Arial\", \"\", 12)\n",
        "    for f in proyecto.funcionalidades:\n",
        "        pdf.set_text_color(*azul)\n",
        "        pdf.cell(8, 8, \"-\", 0, 0)\n",
        "        pdf.set_text_color(0)\n",
        "        pdf.cell(0, 8, f, ln=True)\n",
        "    pdf.ln(2)\n",
        "\n",
        "    # Público objetivo\n",
        "    pdf.set_font(\"Arial\", \"B\", 13)\n",
        "    pdf.cell(0, 10, \"Público objetivo:\", ln=True, fill=True)\n",
        "    pdf.set_font(\"Arial\", \"\", 12)\n",
        "    pdf.multi_cell(0, 8, proyecto.publico_objetivo)\n",
        "    pdf.ln(2)\n",
        "\n",
        "    # Plataformas\n",
        "    pdf.set_font(\"Arial\", \"B\", 13)\n",
        "    pdf.cell(0, 10, \"Plataformas:\", ln=True, fill=True)\n",
        "    pdf.set_font(\"Arial\", \"\", 12)\n",
        "    pdf.multi_cell(0, 8, \", \".join(proyecto.plataformas))\n",
        "    pdf.ln(2)\n",
        "\n",
        "    # Equipo y salarios\n",
        "    pdf.set_font(\"Arial\", \"B\", 13)\n",
        "    pdf.cell(0, 10, \"Equipo y salarios estimados:\", ln=True, fill=True)\n",
        "    pdf.set_font(\"Arial\", \"\", 12)\n",
        "    for p in proyecto.perfiles_equipo:\n",
        "        salario = proyecto.salarios_estimados.get(p, \"-\")\n",
        "        pdf.cell(0, 8, f\"{p}: USD {salario}/día\", ln=True)\n",
        "    pdf.ln(2)\n",
        "\n",
        "    # Stack tecnológico\n",
        "    pdf.set_font(\"Arial\", \"B\", 13)\n",
        "    pdf.cell(0, 10, \"Stack tecnológico sugerido:\", ln=True, fill=True)\n",
        "    pdf.set_font(\"Arial\", \"\", 12)\n",
        "    pdf.multi_cell(0, 8, \", \".join(plan.tecnologias))\n",
        "    pdf.ln(2)\n",
        "\n",
        "    # Etapas del proyecto (tabla simple y color alterno)\n",
        "    pdf.set_font(\"Arial\", \"B\", 13)\n",
        "    pdf.cell(0, 10, \"Etapas del Proyecto y Presupuesto:\", ln=True, fill=True)\n",
        "    pdf.set_font(\"Arial\", \"B\", 11)\n",
        "    pdf.set_fill_color(*celeste_tabla)\n",
        "    pdf.cell(58, 8, \"Etapa\", 1, 0, 'C', fill=True)\n",
        "    pdf.cell(20, 8, \"Días\", 1, 0, 'C', fill=True)\n",
        "    pdf.cell(30, 8, \"Costo/día\", 1, 0, 'C', fill=True)\n",
        "    pdf.cell(32, 8, \"Total etapa\", 1, 1, 'C', fill=True)\n",
        "\n",
        "    pdf.set_font(\"Arial\", \"\", 10)\n",
        "    total = 0\n",
        "    for i, etapa in enumerate(plan.etapas):\n",
        "        total_etapa = etapa.duracion_dias * etapa.costo_diario_estimado\n",
        "        total += total_etapa\n",
        "        fill = i % 2 == 0\n",
        "        pdf.set_fill_color(*celeste_tabla) if fill else pdf.set_fill_color(255,255,255)\n",
        "        pdf.cell(58, 8, etapa.nombre[:27], 1, 0, '', fill)\n",
        "        pdf.cell(20, 8, str(etapa.duracion_dias), 1, 0, 'C', fill)\n",
        "        pdf.cell(30, 8, f\"${etapa.costo_diario_estimado}\", 1, 0, 'R', fill)\n",
        "        pdf.cell(32, 8, f\"${total_etapa}\", 1, 1, 'R', fill)\n",
        "        pdf.set_font(\"Arial\", \"I\", 9)\n",
        "        pdf.cell(140, 7, etapa.descripcion[:100], 1, 1, '', fill)\n",
        "        pdf.set_font(\"Arial\", \"\", 10)\n",
        "\n",
        "    pdf.set_font(\"Arial\", \"B\", 12)\n",
        "    pdf.set_fill_color(*celeste)\n",
        "    pdf.cell(108, 10, \"TOTAL PROYECTO\", 1, 0, 'R', fill=True)\n",
        "    pdf.cell(32, 10, f\"${total}\", 1, 1, 'R', fill=True)\n",
        "    pdf.ln(10)\n",
        "\n",
        "    # Guardar PDF\n",
        "    pdf.output(path_pdf)\n"
      ],
      "metadata": {
        "id": "b8h-lgeY9V1_"
      },
      "execution_count": null,
      "outputs": []
    },
    {
      "cell_type": "code",
      "source": [
        "exportar_proyecto_a_pdf(proyecto, plan, f\"{proyecto.titulo}.pdf\")\n"
      ],
      "metadata": {
        "id": "qMBpzPRB9cP4"
      },
      "execution_count": null,
      "outputs": []
    }
  ]
}